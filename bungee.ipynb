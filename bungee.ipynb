{
 "cells": [
  {
   "cell_type": "code",
   "execution_count": 2,
   "metadata": {},
   "outputs": [],
   "source": [
    "# Importa bibliotecas\n",
    "import numpy as np\n",
    "import matplotlib.pyplot as plt\n",
    "from math import *\n",
    "from scipy.integrate import odeint"
   ]
  },
  {
   "cell_type": "code",
   "execution_count": 44,
   "metadata": {},
   "outputs": [],
   "source": [
    "# Implementação do nosso bungee jumping\n",
    "\n",
    "# Parâmetros do nosso modelo\n",
    "g = 9.8 # Aceleração da gravidade, em m/s2\n",
    "m = 90 # Massa da pessoa, em kg\n",
    "𝜌 = 0.8 # Densidade do ar, em kg/m3\n",
    "Cd = 0.5\n",
    "h = 1.70 # Altura da pessoa\n",
    "A = (m*h)/3600 # Área da secção transversal da pessoa\n",
    "l0 = 10 # Comprimento inicial da corda\n",
    "vt = 54 # Velocidade terminal do corpo humano em m/s\n",
    "\n",
    "# Condições iniciais\n",
    "y = -10\n",
    "vy = 0\n",
    "\n",
    "# Listas que serão usadas no ODEINT\n",
    "dt = 1e-3\n",
    "ls_tempo = np.arange(0, 20, dt)\n",
    "cond_inicial = [y,vy]\n",
    "\n",
    "# Damping\n",
    "D = 74\n",
    "\n",
    "# Função que implementa o nosso modelo\n",
    "def modelo(X,t):\n",
    "    #D=100\n",
    "    y = X[0]\n",
    "    vy = X[1]\n",
    "    x = (y-l0)\n",
    "    Ar = (0.5*𝜌*Cd*A*vy**2)\n",
    "    k = 350\n",
    "    dhdt = vy\n",
    "    if y < 0:\n",
    "        dvydt = g - Ar/m\n",
    "    else:\n",
    "        dvydt = g - Ar/m - (k*x)/m - (D*vy)/m\n",
    "    derivadas = [dhdt,dvydt]\n",
    "    return derivadas\n",
    "\n",
    "# Resultado do ODEINT\n",
    "result = odeint(modelo,cond_inicial,ls_tempo)\n",
    "h = result[:,0]"
   ]
  },
  {
   "cell_type": "code",
   "execution_count": 45,
   "metadata": {},
   "outputs": [
    {
     "name": "stderr",
     "output_type": "stream",
     "text": [
      "/opt/anaconda3/lib/python3.7/site-packages/ipykernel_launcher.py:4: MatplotlibDeprecationWarning: Adding an axes using the same arguments as a previous axes currently reuses the earlier instance.  In a future version, a new instance will always be created and returned.  Meanwhile, this warning can be suppressed, and the future behavior ensured, by passing a unique label to each axes instance.\n",
      "  after removing the cwd from sys.path.\n"
     ]
    },
    {
     "data": {
      "image/png": "[encoded data removed]",
      "text/plain": [
       "<Figure size 720x360 with 1 Axes>"
      ]
     },
     "metadata": {
      "needs_background": "light"
     },
     "output_type": "display_data"
    },
    {
     "name": "stdout",
     "output_type": "stream",
     "text": [
      "A CORDA ESTICOU 20.032939241824387 METROS\n"
     ]
    }
   ],
   "source": [
    "# Plotando gráfico do modelo\n",
    "fig = plt.figure(figsize=(10,5))\n",
    "plt.title(\"Salto de Curtis Rivers\")\n",
    "ax = fig.add_subplot(111)\n",
    "plt.plot(ls_tempo,h, 'b-', label=\"Modelo\")\n",
    "plt.xlabel(\"Tempo (s)\")\n",
    "plt.ylabel(\"Altura (m)\")\n",
    "plt.legend(loc='center left', bbox_to_anchor=(1, 0.5))\n",
    "plt.grid(True)\n",
    "ax.set_ylim(-10, 22)\n",
    "plt.show()\n",
    "\n",
    "stretch = max(h)\n",
    "print('A CORDA ESTICOU {0} METROS'.format(stretch))"
   ]
  },
  {
   "cell_type": "code",
   "execution_count": null,
   "metadata": {},
   "outputs": [],
   "source": []
  },
  {
   "cell_type": "code",
   "execution_count": null,
   "metadata": {},
   "outputs": [],
   "source": []
  }
 ],
 "metadata": {
  "kernelspec": {
   "display_name": "Python 3",
   "language": "python",
   "name": "python3"
  },
  "language_info": {
   "codemirror_mode": {
    "name": "ipython",
    "version": 3
   },
   "file_extension": ".py",
   "mimetype": "text/x-python",
   "name": "python",
   "nbconvert_exporter": "python",
   "pygments_lexer": "ipython3",
   "version": "3.7.6"
  }
 },
 "nbformat": 4,
 "nbformat_minor": 4
}
