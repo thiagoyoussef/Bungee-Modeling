{
 "cells": [
  {
   "cell_type": "code",
   "execution_count": 3,
   "metadata": {},
   "outputs": [],
   "source": [
    "# Importa bibliotecas\n",
    "import numpy as np\n",
    "import matplotlib.pyplot as plt\n",
    "from math import *\n",
    "from scipy.integrate import odeint"
   ]
  },
  {
   "cell_type": "code",
   "execution_count": 22,
   "metadata": {},
   "outputs": [],
   "source": [
    "# Implementação do nosso bungee jumping\n",
    "\n",
    "# Parâmetros do nosso modelo\n",
    "g = 9.8 #aceleração da gravidade, em m/s2\n",
    "r = 1 #comprimento do fio, em m\n",
    "m = 70 #massa do pêndulo\n",
    "𝜌 = 1.204 # densidade do ar, em kg/m3\n",
    "Cd = 0.5\n",
    "h = 1.70 #m\n",
    "A = (m*h)/3600\n",
    "l0 = 100\n",
    "\n",
    "y = -100\n",
    "vy = 0\n",
    "\n",
    "ls_tempo = np.arange(0,3600,0.1)\n",
    "cond_inicial = [y,vy]\n",
    "\n",
    "# Função que implementa o nosso modelo\n",
    "def modelo(X,t):\n",
    "    y = X[0]\n",
    "    vy = X[1]\n",
    "    x = (y-l0)\n",
    "    Ar = (0.5*𝜌*Cd*A*vy**2)\n",
    "    k = 75 #((2*m*g*l0)/(x**2))\n",
    "    dhdt = vy\n",
    "    if y < 0:\n",
    "        dvydt = g - Ar/m\n",
    "    else:\n",
    "        dvydt = g - Ar/m - (k*x)/m\n",
    "    dxdt=[dhdt,dvydt]\n",
    "    return dxdt\n",
    "\n",
    "result = odeint(modelo,cond_inicial,ls_tempo)\n",
    "h = result[:,0]"
   ]
  },
  {
   "cell_type": "code",
   "execution_count": 23,
   "metadata": {},
   "outputs": [
    {
     "data": {
      "image/png": "[encoded data removed]",
      "text/plain": [
       "<Figure size 432x288 with 1 Axes>"
      ]
     },
     "metadata": {
      "needs_background": "light"
     },
     "output_type": "display_data"
    }
   ],
   "source": [
    "plt.title(\"Posição y(t)\")\n",
    "plt.plot(ls_tempo,h, 'b-', label=\"Modelo\")\n",
    "plt.xlabel(\"tempo em s\")\n",
    "plt.ylabel(\"Altura\")\n",
    "plt.legend(loc='center left', bbox_to_anchor=(1, 0.5))\n",
    "plt.grid(True)\n",
    "plt.show()"
   ]
  },
  {
   "cell_type": "code",
   "execution_count": null,
   "metadata": {},
   "outputs": [],
   "source": []
  }
 ],
 "metadata": {
  "kernelspec": {
   "display_name": "Python 3",
   "language": "python",
   "name": "python3"
  },
  "language_info": {
   "codemirror_mode": {
    "name": "ipython",
    "version": 3
   },
   "file_extension": ".py",
   "mimetype": "text/x-python",
   "name": "python",
   "nbconvert_exporter": "python",
   "pygments_lexer": "ipython3",
   "version": "3.7.6"
  }
 },
 "nbformat": 4,
 "nbformat_minor": 4
}
